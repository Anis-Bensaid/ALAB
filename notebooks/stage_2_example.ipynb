{
 "cells": [
  {
   "cell_type": "code",
   "execution_count": 1,
   "metadata": {},
   "outputs": [
    {
     "name": "stdout",
     "output_type": "stream",
     "text": [
      "Academic license - for non-commercial use only\n"
     ]
    }
   ],
   "source": [
    "include(\"../stage_1_optimization/stage_1_optimization.jl\")\n",
    "include(\"../stage_1_optimization/stage_1_data_processing.jl\")\n",
    "include(\"../path_generation/path_generation.jl\");\n",
    "include(\"../path_generation/path_generation_data_processing.jl\")\n",
    "include(\"../stage_2_optimization/stage_2_optimization.jl\");"
   ]
  },
  {
   "cell_type": "code",
   "execution_count": 2,
   "metadata": {},
   "outputs": [],
   "source": [
    "# File paths\n",
    "NODES_FILE_PATH = \"../data/paranagua_nodes_v3.csv\"\n",
    "EDGES_FILE_PATH = \"../data/paranagua_edges_index.csv\"\n",
    "DELIVERIES_FILE_PATH = \"../data/example_schedule_deliveries.csv\"\n",
    "PICKUPS_FILE_PATH = \"../data/example_schedule_pickups.csv\";"
   ]
  },
  {
   "cell_type": "code",
   "execution_count": 14,
   "metadata": {},
   "outputs": [],
   "source": [
    "# Get node coordinates and edges\n",
    "node_coords = convert(Matrix, CSV.read(NODES_FILE_PATH, header = true))\n",
    "edge_indices = convert(Matrix, CSV.read(EDGES_FILE_PATH, header = true))[:,2:3]\n",
    "distance_matrix = EuclDist(node_coords[:,2:3], node_coords[:,2:3]) .* AdjMat(edge_indices, size(node_coords,1))\n",
    "\n",
    "# Get node balances from example schedule\n",
    "node_balances = get_node_balances_from_schedule(DELIVERIES_FILE_PATH, PICKUPS_FILE_PATH)\n",
    "\n",
    "# Get cost matrix for terminals in example schedule\n",
    "cost_matrix = get_cost_matrix(NODES_FILE_PATH, EDGES_FILE_PATH, DELIVERIES_FILE_PATH)\n",
    "\n",
    "# Get location and commodity names from example schedule (for plotting)\n",
    "terminal_names, commodity_names = get_terminal_and_commodity_names_from_schedule(DELIVERIES_FILE_PATH)\n",
    "\n",
    "# Set other problem parameters\n",
    "max_capacity = 100\n",
    "num_locomotives = 6;"
   ]
  },
  {
   "cell_type": "code",
   "execution_count": 15,
   "metadata": {},
   "outputs": [],
   "source": [
    "node_coords[:,2] .+= abs.(minimum(node_coords[:,2]))\n",
    "node_coords[:,2] .*= 5/maximum(node_coords[:,2])\n",
    "node_coords[:,3] .+= abs.(minimum(node_coords[:,3]))\n",
    "node_coords[:,3] .*= 1/maximum(node_coords[:,3]);"
   ]
  },
  {
   "cell_type": "code",
   "execution_count": 16,
   "metadata": {},
   "outputs": [
    {
     "name": "stdout",
     "output_type": "stream",
     "text": [
      "Optimizing...\n",
      "Objective value: 1418.0\n",
      "Objective bound: 1418.0\n",
      "MIP gap: 0.0\n",
      "Time elapsed: 6.74s\n",
      "All validation checks passed.\n"
     ]
    }
   ],
   "source": [
    "# Stage 1 optimization\n",
    "routes = optimize_routes(node_balances, cost_matrix, num_locomotives, max_capacity, λ=1);"
   ]
  },
  {
   "cell_type": "code",
   "execution_count": 17,
   "metadata": {},
   "outputs": [
    {
     "data": {
      "text/plain": [
       "process_path (generic function with 1 method)"
      ]
     },
     "execution_count": 17,
     "metadata": {},
     "output_type": "execute_result"
    }
   ],
   "source": [
    "# Hack to fix minor bug in path generation code \n",
    "function process_path(path)\n",
    "    return path[findall([node.name for node in path] .== path[1].name)[end]:end]\n",
    "end"
   ]
  },
  {
   "cell_type": "code",
   "execution_count": 18,
   "metadata": {},
   "outputs": [],
   "source": [
    "# Stage 2 optimization\n",
    "K = 5\n",
    "selected_paths = []\n",
    "all_paths = []\n",
    "for (from_nodes, to_nodes) in process_routes_for_stage_2(routes)\n",
    "    sources = [findall(node_coords[:, 1] .== terminal_names[i])[1] for i in from_nodes]\n",
    "    sinks = [findall(node_coords[:, 1] .== terminal_names[i])[1] for i in to_nodes]\n",
    "    paths  = @suppress K_ShortestPaths(K, node_coords, edge_indices, distance_matrix, \n",
    "        sources, sinks, false)\n",
    "    for l=1:num_locomotives   \n",
    "        paths[l] = process_path.(paths[l])\n",
    "    end\n",
    "    push!(selected_paths, [paths[i][k] for (i, k) in sort(optimise_paths(paths))])\n",
    "    push!(all_paths, paths)\n",
    "end"
   ]
  },
  {
   "cell_type": "code",
   "execution_count": 23,
   "metadata": {},
   "outputs": [],
   "source": [
    "# Visualize selected paths for specified timestep\n",
    "t = 2\n",
    "paths = selected_paths[t]\n",
    "gr()\n",
    "P = PlotInitialGraph(node_coords, edge_indices)\n",
    "for l=1:num_locomotives\n",
    "    P = plotPath(P, paths[l])\n",
    "end\n",
    "plot(P)\n",
    "savefig(P, \"paths1\")"
   ]
  },
  {
   "cell_type": "code",
   "execution_count": 24,
   "metadata": {
    "scrolled": false
   },
   "outputs": [],
   "source": [
    "# Visualize selected paths for specified timestep\n",
    "t = 3\n",
    "paths = selected_paths[t]\n",
    "gr()\n",
    "P = PlotInitialGraph(node_coords, edge_indices)\n",
    "for l=1:num_locomotives\n",
    "    P = plotPath(P, paths[l])\n",
    "end\n",
    "plot(P)\n",
    "savefig(P, \"paths2\")"
   ]
  },
  {
   "cell_type": "code",
   "execution_count": 26,
   "metadata": {},
   "outputs": [],
   "source": [
    "# Visualize selected paths for specified timestep\n",
    "t = 7\n",
    "paths = selected_paths[t]\n",
    "gr()\n",
    "P = PlotInitialGraph(node_coords, edge_indices)\n",
    "for l=1:num_locomotives\n",
    "    P = plotPath(P, paths[l])\n",
    "end\n",
    "plot(P)\n",
    "savefig(P, \"paths3\")"
   ]
  },
  {
   "cell_type": "code",
   "execution_count": null,
   "metadata": {},
   "outputs": [],
   "source": []
  }
 ],
 "metadata": {
  "kernelspec": {
   "display_name": "Julia 1.2.0",
   "language": "julia",
   "name": "julia-1.2"
  },
  "language_info": {
   "file_extension": ".jl",
   "mimetype": "application/julia",
   "name": "julia",
   "version": "1.2.0"
  }
 },
 "nbformat": 4,
 "nbformat_minor": 2
}
